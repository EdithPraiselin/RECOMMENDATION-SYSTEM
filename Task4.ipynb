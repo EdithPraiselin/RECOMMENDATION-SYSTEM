{
  "cells": [
    {
      "cell_type": "code",
      "execution_count": 2,
      "metadata": {
        "colab": {
          "base_uri": "https://localhost:8080/"
        },
        "id": "esRaUwBbUW56",
        "outputId": "ff54c618-3b92-459a-a6a7-194cb4d250bb"
      },
      "outputs": [
        {
          "output_type": "stream",
          "name": "stdout",
          "text": [
            "Collecting scikit-surprise\n",
            "  Downloading scikit_surprise-1.1.4.tar.gz (154 kB)\n",
            "\u001b[?25l     \u001b[90m━━━━━━━━━━━━━━━━━━━━━━━━━━━━━━━━━━━━━━━━\u001b[0m \u001b[32m0.0/154.4 kB\u001b[0m \u001b[31m?\u001b[0m eta \u001b[36m-:--:--\u001b[0m\r\u001b[2K     \u001b[90m━━━━━━━━━━━━━━━━━━━━━━━━━━━━━━━━━━━━━━━━\u001b[0m \u001b[32m154.4/154.4 kB\u001b[0m \u001b[31m5.1 MB/s\u001b[0m eta \u001b[36m0:00:00\u001b[0m\n",
            "\u001b[?25h  Installing build dependencies ... \u001b[?25l\u001b[?25hdone\n",
            "  Getting requirements to build wheel ... \u001b[?25l\u001b[?25hdone\n",
            "  Preparing metadata (pyproject.toml) ... \u001b[?25l\u001b[?25hdone\n",
            "Requirement already satisfied: joblib>=1.2.0 in /usr/local/lib/python3.11/dist-packages (from scikit-surprise) (1.4.2)\n",
            "Requirement already satisfied: numpy>=1.19.5 in /usr/local/lib/python3.11/dist-packages (from scikit-surprise) (1.26.4)\n",
            "Requirement already satisfied: scipy>=1.6.0 in /usr/local/lib/python3.11/dist-packages (from scikit-surprise) (1.14.1)\n",
            "Building wheels for collected packages: scikit-surprise\n",
            "  Building wheel for scikit-surprise (pyproject.toml) ... \u001b[?25l\u001b[?25hdone\n",
            "  Created wheel for scikit-surprise: filename=scikit_surprise-1.1.4-cp311-cp311-linux_x86_64.whl size=2505186 sha256=247d1f98d973f5d59cfe26ff77e165e6d5a1ee644030282f31cc612f78bd204f\n",
            "  Stored in directory: /root/.cache/pip/wheels/2a/8f/6e/7e2899163e2d85d8266daab4aa1cdabec7a6c56f83c015b5af\n",
            "Successfully built scikit-surprise\n",
            "Installing collected packages: scikit-surprise\n",
            "Successfully installed scikit-surprise-1.1.4\n"
          ]
        }
      ],
      "source": [
        "!pip install scikit-surprise"
      ]
    },
    {
      "cell_type": "code",
      "execution_count": 4,
      "metadata": {
        "colab": {
          "base_uri": "https://localhost:8080/"
        },
        "id": "P1UWwrbhwaJh",
        "outputId": "aac72a64-1c64-4a50-f8eb-368ba9943a9c"
      },
      "outputs": [
        {
          "output_type": "stream",
          "name": "stdout",
          "text": [
            "\n",
            "Evaluation Metrics:\n",
            "RMSE: 1.8157\n",
            "RMSE: 1.8157252621115785\n",
            "MAE:  1.4770\n",
            "MAE: 1.4769743155919215\n",
            "\n",
            "🎬 Top 5 Recommendations for User 6538:\n",
            "Cocoon (1985) (Predicted Rating: 5.00)\n",
            "Navigator: A Mediaeval Odyssey, The (1988) (Predicted Rating: 5.00)\n",
            "Thin Red Line, The (1998) (Predicted Rating: 5.00)\n",
            "Small Time Crooks (2000) (Predicted Rating: 5.00)\n",
            "Seven Days in May (1964) (Predicted Rating: 5.00)\n",
            "\n",
            "🎬 Top 5 Recommendations for User 6648:\n",
            "Jurassic Park (1993) (Predicted Rating: 5.00)\n",
            "\n",
            "🎬 Top 5 Recommendations for User 1519:\n",
            "Original Gangstas (1996) (Predicted Rating: 5.00)\n",
            "Craft, The (1996) (Predicted Rating: 5.00)\n",
            "Diabolique (1996) (Predicted Rating: 5.00)\n",
            "Don't Be a Menace to South Central While Drinking Your Juice in the Hood (1996) (Predicted Rating: 5.00)\n",
            "City of Lost Children, The (Cité des enfants perdus, La) (1995) (Predicted Rating: 5.00)\n",
            "\n",
            "🎬 Top 5 Recommendations for User 7498:\n",
            "Sin City (2005) (Predicted Rating: 5.00)\n",
            "Heavenly Creatures (1994) (Predicted Rating: 5.00)\n",
            "Mystery Men (1999) (Predicted Rating: 5.00)\n",
            "Talented Mr. Ripley, The (1999) (Predicted Rating: 5.00)\n",
            "WALL·E (2008) (Predicted Rating: 5.00)\n",
            "\n",
            "🎬 Top 5 Recommendations for User 1158:\n",
            "Batman Begins (2005) (Predicted Rating: 5.00)\n",
            "Psycho (1960) (Predicted Rating: 5.00)\n",
            "Die Hard (1988) (Predicted Rating: 5.00)\n",
            "Rock, The (1996) (Predicted Rating: 5.00)\n",
            "Interview with the Vampire: The Vampire Chronicles (1994) (Predicted Rating: 5.00)\n"
          ]
        }
      ],
      "source": [
        "# Import Required Libraries\n",
        "import numpy as np\n",
        "import pandas as pd\n",
        "from surprise import Dataset, Reader, SVD\n",
        "from surprise.model_selection import train_test_split\n",
        "from surprise.accuracy import rmse, mae\n",
        "\n",
        "# Update Dataset Paths\n",
        "ratings_path = \"/ratings.csv\"\n",
        "movies_path = \"/movies.csv\"\n",
        "\n",
        "# Load the MovieLens 20M Dataset (CSV Format)\n",
        "ratings = pd.read_csv(ratings_path, usecols=[\"userId\", \"movieId\", \"rating\"])\n",
        "movies = pd.read_csv(movies_path, usecols=[\"movieId\", \"title\"])\n",
        "movies_dict = dict(zip(movies[\"movieId\"], movies[\"title\"]))\n",
        "\n",
        "# Prepare Data for Surprise\n",
        "reader = Reader(line_format=\"user item rating\", sep=\",\", rating_scale=(0.5, 5.0))\n",
        "dataset = Dataset.load_from_df(ratings[[\"userId\", \"movieId\", \"rating\"]], reader)\n",
        "\n",
        "# Count ratings per movie\n",
        "movie_counts = ratings[\"movieId\"].value_counts()\n",
        "\n",
        "# Keep only movies with at least 10 ratings\n",
        "popular_movies = movie_counts[movie_counts >= 10].index\n",
        "filtered_ratings = ratings[ratings[\"movieId\"].isin(popular_movies)]\n",
        "\n",
        "# Split Data into Training and Testing Sets\n",
        "trainset, testset = train_test_split(dataset, test_size=0.1)\n",
        "\n",
        "# Train the SVD Model\n",
        "algo = SVD(n_factors=150, lr_all=0.007, reg_all=0.02)\n",
        "algo.fit(trainset)\n",
        "\n",
        "# Evaluate Model Performance\n",
        "predictions = algo.test(testset)\n",
        "print(\"\\nEvaluation Metrics:\")\n",
        "print(\"RMSE:\", rmse(predictions))\n",
        "print(\"MAE:\", mae(predictions))\n",
        "\n",
        "# Generate Top-N Recommendations for Each User\n",
        "def get_top_n_recommendations(predictions, n=5):\n",
        "    top_n = {}\n",
        "    for uid, iid, _, est, _ in predictions:\n",
        "        if uid not in top_n:\n",
        "            top_n[uid] = []\n",
        "        top_n[uid].append((iid, est))\n",
        "\n",
        "    for uid, user_ratings in top_n.items():\n",
        "        user_ratings.sort(key=lambda x: x[1], reverse=True)\n",
        "        top_n[uid] = user_ratings[:n]  # Keep Top-N movies\n",
        "\n",
        "    return top_n\n",
        "\n",
        "top_recommendations = get_top_n_recommendations(predictions)\n",
        "\n",
        "# Convert Movie IDs to Titles and Display Sample Recommendations\n",
        "def display_recommendations(user_id, top_recommendations):\n",
        "    if user_id not in top_recommendations:\n",
        "        print(f\"No recommendations found for User {user_id}\")\n",
        "        return\n",
        "\n",
        "    print(f\"\\n🎬 Top 5 Recommendations for User {user_id}:\")\n",
        "    for movie_id, score in top_recommendations[user_id]:\n",
        "        print(f\"{movies_dict.get(movie_id, 'Unknown Movie')} (Predicted Rating: {score:.2f})\")\n",
        "\n",
        "# Show recommendations for 5 random users\n",
        "import random\n",
        "random_users = random.sample(list(top_recommendations.keys()), 5)\n",
        "for user in random_users:\n",
        "    display_recommendations(user, top_recommendations)\n"
      ]
    }
  ],
  "metadata": {
    "colab": {
      "provenance": []
    },
    "kernelspec": {
      "display_name": "Python 3",
      "name": "python3"
    },
    "language_info": {
      "name": "python"
    }
  },
  "nbformat": 4,
  "nbformat_minor": 0
}